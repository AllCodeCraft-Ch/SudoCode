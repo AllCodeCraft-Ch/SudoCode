{
 "cells": [
  {
   "cell_type": "code",
   "execution_count": 1,
   "metadata": {},
   "outputs": [
    {
     "name": "stdout",
     "output_type": "stream",
     "text": [
      "เส้นทางจาก A ถึง D: ['A', 'B', 'D']\n"
     ]
    }
   ],
   "source": [
    "import heapq\n",
    "\n",
    "class Node:\n",
    "    def __init__(self, name, heuristic):\n",
    "        self.name = name\n",
    "        self.heuristic = heuristic\n",
    "        self.g = float('inf')  # ค่าใช้จ่ายจากเริ่มต้น\n",
    "        self.f = float('inf')  # ค่าใช้จ่ายรวม (g + h)\n",
    "        self.parent = None\n",
    "\n",
    "def a_star(graph, heuristics, start, goal):\n",
    "    open_list = []\n",
    "    closed_list = set()\n",
    "    \n",
    "    start_node = Node(start, heuristics[start])\n",
    "    start_node.g = 0\n",
    "    start_node.f = heuristics[start]\n",
    "    \n",
    "    heapq.heappush(open_list, (start_node.f, start_node))\n",
    "    \n",
    "    while open_list:\n",
    "        current_node = heapq.heappop(open_list)[1]\n",
    "        \n",
    "        if current_node.name == goal:\n",
    "            path = []\n",
    "            while current_node:\n",
    "                path.append(current_node.name)\n",
    "                current_node = current_node.parent\n",
    "            return path[::-1]  # คืนค่าเส้นทางย้อนกลับ\n",
    "        \n",
    "        closed_list.add(current_node.name)\n",
    "        \n",
    "        for neighbor, cost in graph[current_node.name].items():\n",
    "            if neighbor in closed_list:\n",
    "                continue\n",
    "            \n",
    "            tentative_g = current_node.g + cost\n",
    "            \n",
    "            neighbor_node = Node(neighbor, heuristics[neighbor])\n",
    "            if tentative_g < neighbor_node.g:\n",
    "                neighbor_node.g = tentative_g\n",
    "                neighbor_node.f = tentative_g + heuristics[neighbor]\n",
    "                neighbor_node.parent = current_node\n",
    "                \n",
    "                if not any(neighbor_node.name == n[1].name for n in open_list):\n",
    "                    heapq.heappush(open_list, (neighbor_node.f, neighbor_node))\n",
    "    \n",
    "    return None  # ไม่พบเส้นทาง\n",
    "\n",
    "# ตัวอย่างกราฟ\n",
    "graph = {\n",
    "    'A': {'B': 1, 'C': 4},\n",
    "    'B': {'A': 1, 'D': 5, 'C': 2},\n",
    "    'C': {'A': 4, 'B': 2, 'D': 3},\n",
    "    'D': {'B': 5, 'C': 3},\n",
    "}\n",
    "\n",
    "heuristics = {\n",
    "    'A': 7,\n",
    "    'B': 6,\n",
    "    'C': 4,\n",
    "    'D': 0,\n",
    "}\n",
    "\n",
    "start = 'A'\n",
    "goal = 'D'\n",
    "path = a_star(graph, heuristics, start, goal)\n",
    "print(\"เส้นทางจาก A ถึง D:\", path)\n"
   ]
  }
 ],
 "metadata": {
  "kernelspec": {
   "display_name": "Python 3",
   "language": "python",
   "name": "python3"
  },
  "language_info": {
   "codemirror_mode": {
    "name": "ipython",
    "version": 3
   },
   "file_extension": ".py",
   "mimetype": "text/x-python",
   "name": "python",
   "nbconvert_exporter": "python",
   "pygments_lexer": "ipython3",
   "version": "3.12.4"
  }
 },
 "nbformat": 4,
 "nbformat_minor": 2
}
