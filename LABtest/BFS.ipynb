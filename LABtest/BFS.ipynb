{
 "cells": [
  {
   "cell_type": "code",
   "execution_count": 1,
   "metadata": {},
   "outputs": [
    {
     "name": "stdout",
     "output_type": "stream",
     "text": [
      "Reached goal: F\n"
     ]
    }
   ],
   "source": [
    "import heapq\n",
    "\n",
    "def best_first_search(graph, heuristic, start, goal):\n",
    "    visited = set()\n",
    "    priority_queue = []\n",
    "    heapq.heappush(priority_queue, (heuristic[start], start))\n",
    "\n",
    "    while priority_queue:\n",
    "        current_cost, current_node = heapq.heappop(priority_queue)\n",
    "        if current_node == goal:\n",
    "            print(\"Reached goal:\", goal)\n",
    "            return\n",
    "        visited.add(current_node)\n",
    "\n",
    "        for neighbor in graph[current_node]:\n",
    "            if neighbor not in visited:\n",
    "                heapq.heappush(priority_queue, (heuristic[neighbor], neighbor))\n",
    "\n",
    "graph = {\n",
    "    'A': ['B', 'C'],\n",
    "    'B': ['D', 'E'],\n",
    "    'C': ['F'],\n",
    "    'D': [],\n",
    "    'E': [],\n",
    "    'F': []\n",
    "}\n",
    "\n",
    "heuristic = {\n",
    "    'A': 10,\n",
    "    'B': 6,\n",
    "    'C': 4,\n",
    "    'D': 5,\n",
    "    'E': 3,\n",
    "    'F': 0  # Goal\n",
    "}\n",
    "\n",
    "best_first_search(graph, heuristic, 'A', 'F')\n"
   ]
  }
 ],
 "metadata": {
  "kernelspec": {
   "display_name": "Python 3",
   "language": "python",
   "name": "python3"
  },
  "language_info": {
   "codemirror_mode": {
    "name": "ipython",
    "version": 3
   },
   "file_extension": ".py",
   "mimetype": "text/x-python",
   "name": "python",
   "nbconvert_exporter": "python",
   "pygments_lexer": "ipython3",
   "version": "3.12.4"
  }
 },
 "nbformat": 4,
 "nbformat_minor": 2
}
