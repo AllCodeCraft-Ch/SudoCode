{
 "cells": [
  {
   "cell_type": "code",
   "execution_count": 7,
   "metadata": {},
   "outputs": [
    {
     "name": "stdout",
     "output_type": "stream",
     "text": [
      "[1, 2, 3, 4, 0, 0, 5, 6, 7, 8]\n"
     ]
    }
   ],
   "source": [
    "# เปิดไฟล์และอ่านข้อมูล\n",
    "with open('/Users/natthawutchungam/Documents/data.txt', 'r') as file:\n",
    "    lines = file.readlines()\n",
    "\n",
    "# แยกข้อมูลเป็นรายการ โดยกำหนดให้ช่องว่างเป็น '0'\n",
    "array = []\n",
    "\n",
    "for line in lines:\n",
    "    # แยกข้อมูลแต่ละบรรทัด โดยใช้ ' ' เป็นตัวแบ่ง\n",
    "    items = line.split(' ')\n",
    "    for item in items:\n",
    "        # ถ้าข้อมูลเป็นช่องว่างจะใช้ 0\n",
    "        array.append(int(item) if item.strip() else 0)\n",
    "\n",
    "# แสดงผล array\n",
    "print(array)\n"
   ]
  }
 ],
 "metadata": {
  "kernelspec": {
   "display_name": "Python 3",
   "language": "python",
   "name": "python3"
  },
  "language_info": {
   "codemirror_mode": {
    "name": "ipython",
    "version": 3
   },
   "file_extension": ".py",
   "mimetype": "text/x-python",
   "name": "python",
   "nbconvert_exporter": "python",
   "pygments_lexer": "ipython3",
   "version": "3.12.4"
  }
 },
 "nbformat": 4,
 "nbformat_minor": 2
}
