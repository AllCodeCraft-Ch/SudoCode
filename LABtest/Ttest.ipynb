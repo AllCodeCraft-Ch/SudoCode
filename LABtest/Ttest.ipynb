{
 "cells": [
  {
   "cell_type": "code",
   "execution_count": 6,
   "metadata": {},
   "outputs": [
    {
     "name": "stdout",
     "output_type": "stream",
     "text": [
      "Processing 3x3 array:\n"
     ]
    },
    {
     "ename": "ValueError",
     "evalue": "setting an array element with a sequence. The requested array has an inhomogeneous shape after 1 dimensions. The detected shape was (3,) + inhomogeneous part.",
     "output_type": "error",
     "traceback": [
      "\u001b[0;31m---------------------------------------------------------------------------\u001b[0m",
      "\u001b[0;31mValueError\u001b[0m                                Traceback (most recent call last)",
      "Cell \u001b[0;32mIn[6], line 41\u001b[0m\n\u001b[1;32m     38\u001b[0m file_path_4x4 \u001b[38;5;241m=\u001b[39m \u001b[38;5;124m'\u001b[39m\u001b[38;5;124m/Users/natthawutchungam/Documents/4x4.in\u001b[39m\u001b[38;5;124m'\u001b[39m\n\u001b[1;32m     40\u001b[0m \u001b[38;5;28mprint\u001b[39m(\u001b[38;5;124m\"\u001b[39m\u001b[38;5;124mProcessing 3x3 array:\u001b[39m\u001b[38;5;124m\"\u001b[39m)\n\u001b[0;32m---> 41\u001b[0m \u001b[43mmain\u001b[49m\u001b[43m(\u001b[49m\u001b[43mfile_path_3x3\u001b[49m\u001b[43m)\u001b[49m\n\u001b[1;32m     43\u001b[0m \u001b[38;5;28mprint\u001b[39m(\u001b[38;5;124m\"\u001b[39m\u001b[38;5;130;01m\\n\u001b[39;00m\u001b[38;5;124mProcessing 4x4 array:\u001b[39m\u001b[38;5;124m\"\u001b[39m)\n\u001b[1;32m     44\u001b[0m main(file_path_4x4)\n",
      "Cell \u001b[0;32mIn[6], line 28\u001b[0m, in \u001b[0;36mmain\u001b[0;34m(file_path)\u001b[0m\n\u001b[1;32m     27\u001b[0m \u001b[38;5;28;01mdef\u001b[39;00m \u001b[38;5;21mmain\u001b[39m(file_path):\n\u001b[0;32m---> 28\u001b[0m     array \u001b[38;5;241m=\u001b[39m \u001b[43mread_file_to_array\u001b[49m\u001b[43m(\u001b[49m\u001b[43mfile_path\u001b[49m\u001b[43m)\u001b[49m\n\u001b[1;32m     29\u001b[0m     \u001b[38;5;28mprint\u001b[39m(\u001b[38;5;124m\"\u001b[39m\u001b[38;5;124mArray before filling:\u001b[39m\u001b[38;5;124m\"\u001b[39m)\n\u001b[1;32m     30\u001b[0m     \u001b[38;5;28mprint\u001b[39m(array)\n",
      "Cell \u001b[0;32mIn[6], line 13\u001b[0m, in \u001b[0;36mread_file_to_array\u001b[0;34m(file_path)\u001b[0m\n\u001b[1;32m     10\u001b[0m     row \u001b[38;5;241m=\u001b[39m [\u001b[38;5;28mint\u001b[39m(x) \u001b[38;5;28;01mif\u001b[39;00m x\u001b[38;5;241m.\u001b[39mstrip() \u001b[38;5;28;01melse\u001b[39;00m \u001b[38;5;241m0\u001b[39m \u001b[38;5;28;01mfor\u001b[39;00m x \u001b[38;5;129;01min\u001b[39;00m line\u001b[38;5;241m.\u001b[39msplit()]\n\u001b[1;32m     11\u001b[0m     array\u001b[38;5;241m.\u001b[39mappend(row)\n\u001b[0;32m---> 13\u001b[0m \u001b[38;5;28;01mreturn\u001b[39;00m \u001b[43mnp\u001b[49m\u001b[38;5;241;43m.\u001b[39;49m\u001b[43marray\u001b[49m\u001b[43m(\u001b[49m\u001b[43marray\u001b[49m\u001b[43m)\u001b[49m\n",
      "\u001b[0;31mValueError\u001b[0m: setting an array element with a sequence. The requested array has an inhomogeneous shape after 1 dimensions. The detected shape was (3,) + inhomogeneous part."
     ]
    }
   ],
   "source": [
    "import numpy as np\n",
    "\n",
    "def read_file_to_array(file_path):\n",
    "    with open(file_path, 'r') as file:\n",
    "        data = file.readlines()\n",
    "\n",
    "    array = []\n",
    "    for line in data:\n",
    "        # ใช้ list comprehension เพื่อสร้างแถว โดยกำหนดให้ช่องว่างเป็น 0\n",
    "        row = [int(x) if x.strip() else 0 for x in line.split()]\n",
    "        array.append(row)\n",
    "    \n",
    "    return np.array(array)\n",
    "\n",
    "def fill_zeros(array):\n",
    "    unique_numbers = set(range(1, np.prod(array.shape) + 1))\n",
    "    filled_array = array.copy()\n",
    "    zeros_indices = np.argwhere(array == 0)\n",
    "    \n",
    "    for idx in zeros_indices:\n",
    "        # หาเลขที่ไม่ซ้ำกันเพื่อเติม\n",
    "        num_to_fill = unique_numbers.pop()  # ลบและคืนค่าเลข\n",
    "        filled_array[idx[0], idx[1]] = num_to_fill\n",
    "    \n",
    "    return filled_array\n",
    "\n",
    "def main(file_path):\n",
    "    array = read_file_to_array(file_path)\n",
    "    print(\"Array before filling:\")\n",
    "    print(array)\n",
    "    \n",
    "    filled_array = fill_zeros(array)\n",
    "    print(\"Array after filling:\")\n",
    "    print(filled_array)\n",
    "\n",
    "# กำหนดให้ใช้ไฟล์ .txt ที่มีข้อมูลขนาด 3x3 หรือ 4x4\n",
    "file_path_3x3 = '/Users/natthawutchungam/Documents/3x3.in'\n",
    "file_path_4x4 = '/Users/natthawutchungam/Documents/4x4.in'\n",
    "\n",
    "print(\"Processing 3x3 array:\")\n",
    "main(file_path_3x3)\n",
    "\n",
    "print(\"\\nProcessing 4x4 array:\")\n",
    "main(file_path_4x4)\n"
   ]
  }
 ],
 "metadata": {
  "kernelspec": {
   "display_name": "Python 3",
   "language": "python",
   "name": "python3"
  },
  "language_info": {
   "codemirror_mode": {
    "name": "ipython",
    "version": 3
   },
   "file_extension": ".py",
   "mimetype": "text/x-python",
   "name": "python",
   "nbconvert_exporter": "python",
   "pygments_lexer": "ipython3",
   "version": "3.12.4"
  }
 },
 "nbformat": 4,
 "nbformat_minor": 2
}
